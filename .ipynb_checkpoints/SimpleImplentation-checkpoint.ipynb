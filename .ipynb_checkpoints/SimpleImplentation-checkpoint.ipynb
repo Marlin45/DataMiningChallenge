{
 "cells": [
  {
   "cell_type": "code",
   "execution_count": null,
   "id": "cf5b1f16-bb78-465e-b763-c7d308490ead",
   "metadata": {},
   "outputs": [],
   "source": [
    "import pandas as pd\n",
    "import nltk\n",
    "from nltk.stem import PorterStemmer\n",
    "import numpy as np\n",
    "from sklearn.model_selection import train_test_split\n",
    "from nltk.corpus import stopwords\n",
    "from sklearn.naive_bayes import GaussianNB, BernoulliNB\n",
    "from sklearn import tree\n",
    "from sklearn import svm\n",
    "from sklearn.neighbors import KNeighborsClassifier\n",
    "import time\n",
    "from sklearn.metrics import confusion_matrix, roc_auc_score, roc_curve\n",
    "import matplotlib.pyplot as plt"
   ]
  },
  {
   "cell_type": "code",
   "execution_count": null,
   "id": "fd316c75-ac52-4fcd-af75-27d681286fa3",
   "metadata": {},
   "outputs": [],
   "source": [
    "def get_metrics(name, y_test, y_pred, proba):\n",
    "    tn, fp, fn, tp = confusion_matrix(y_test, y_pred).ravel()\n",
    "    accuracy = (tp + tn) / (tp + tn + fn + fp)\n",
    "    precision = tp / (tp+fp)\n",
    "    recall = tp / (tp+fn)\n",
    "    specificity = tn / (tn+fp)\n",
    "    roc_auc = roc_auc_score(y_test, proba)\n",
    "    fpr, tpr, thresholds = roc_curve(y_test, proba, pos_label=1)\n",
    "    plt.plot(fpr, tpr)\n",
    "    plt.xlabel(\"FPR\")\n",
    "    plt.ylabel(\"TPR\")\n",
    "    plt.title(name)\n",
    "    plt.show()\n",
    "\n",
    "    return accuracy, precision, recall, specificity, roc_auc"
   ]
  }
 ],
 "metadata": {
  "kernelspec": {
   "display_name": "Python 3 (ipykernel)",
   "language": "python",
   "name": "python3"
  },
  "language_info": {
   "codemirror_mode": {
    "name": "ipython",
    "version": 3
   },
   "file_extension": ".py",
   "mimetype": "text/x-python",
   "name": "python",
   "nbconvert_exporter": "python",
   "pygments_lexer": "ipython3",
   "version": "3.10.6"
  }
 },
 "nbformat": 4,
 "nbformat_minor": 5
}
